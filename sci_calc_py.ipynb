{
  "nbformat": 4,
  "nbformat_minor": 0,
  "metadata": {
    "colab": {
      "provenance": [],
      "authorship_tag": "ABX9TyNxCDVs16kf76GnGtOU4wdT",
      "include_colab_link": true
    },
    "kernelspec": {
      "name": "python3",
      "display_name": "Python 3"
    },
    "language_info": {
      "name": "python"
    }
  },
  "cells": [
    {
      "cell_type": "markdown",
      "metadata": {
        "id": "view-in-github",
        "colab_type": "text"
      },
      "source": [
        "<a href=\"https://colab.research.google.com/github/Khumi-80/sci-calc.py/blob/main/sci_calc_py.ipynb\" target=\"_parent\"><img src=\"https://colab.research.google.com/assets/colab-badge.svg\" alt=\"Open In Colab\"/></a>"
      ]
    },
    {
      "cell_type": "code",
      "source": [
        "import streamlit as st\n",
        "import math\n",
        "\n",
        "# Function to handle scientific calculator operations\n",
        "def scientific_calculator():\n",
        "    st.title(\"Scientific Calculator\")\n",
        "\n",
        "    # Select the operation\n",
        "    operation = st.selectbox(\"Select operation:\",\n",
        "                             [\"Addition\", \"Subtraction\", \"Multiplication\", \"Division\",\n",
        "                              \"Power\", \"Square Root\", \"Logarithm (Base 10)\", \"Exponential\",\n",
        "                              \"Sine\", \"Cosine\", \"Tangent\"])\n",
        "\n",
        "    if operation == \"Addition\":\n",
        "        num1 = st.number_input(\"Enter first number\", format=\"%.5f\")\n",
        "        num2 = st.number_input(\"Enter second number\", format=\"%.5f\")\n",
        "        if st.button(\"Calculate\"):\n",
        "            st.write(f\"Result: {num1} + {num2} = {num1 + num2}\")\n",
        "\n",
        "    elif operation == \"Subtraction\":\n",
        "        num1 =\n"
      ],
      "metadata": {
        "id": "apJNTMLYUb3E"
      },
      "execution_count": null,
      "outputs": []
    }
  ]
}